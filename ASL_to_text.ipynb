{
  "nbformat": 4,
  "nbformat_minor": 0,
  "metadata": {
    "colab": {
      "name": "ASL to text.ipynb",
      "provenance": [],
      "collapsed_sections": [],
      "authorship_tag": "ABX9TyPMyo39k+wBsK/8t5iuYeK3",
      "include_colab_link": true
    },
    "kernelspec": {
      "name": "python3",
      "display_name": "Python 3"
    }
  },
  "cells": [
    {
      "cell_type": "markdown",
      "metadata": {
        "id": "view-in-github",
        "colab_type": "text"
      },
      "source": [
        "<a href=\"https://colab.research.google.com/github/abinhack/ASL_to_Text/blob/master/ASL_to_text.ipynb\" target=\"_parent\"><img src=\"https://colab.research.google.com/assets/colab-badge.svg\" alt=\"Open In Colab\"/></a>"
      ]
    },
    {
      "cell_type": "markdown",
      "metadata": {
        "id": "iM_uMEcKwIui",
        "colab_type": "text"
      },
      "source": [
        "**Run this piece of code to download the dataset**\n"
      ]
    },
    {
      "cell_type": "code",
      "metadata": {
        "id": "DSaJHDZUcF_K",
        "colab_type": "code",
        "outputId": "297515de-b16c-419f-d635-b71753748452",
        "colab": {
          "base_uri": "https://localhost:8080/",
          "height": 765
        }
      },
      "source": [
        "!wget https://download.microsoft.com/download/3/c/a/3ca92c78-1c4a-4a91-a7ee-6980c1d242ec/MS-ASL.zip\n",
        "!unzip 'MS-ASL.zip'\n",
        "\n",
        "!pip3 uninstall scipy\n",
        "!pip3 install scipy==1.1.0\n",
        "!pip install pafy\n",
        "!pip install youtube-dl"
      ],
      "execution_count": 1,
      "outputs": [
        {
          "output_type": "stream",
          "text": [
            "--2020-03-23 07:44:12--  https://download.microsoft.com/download/3/c/a/3ca92c78-1c4a-4a91-a7ee-6980c1d242ec/MS-ASL.zip\n",
            "Resolving download.microsoft.com (download.microsoft.com)... 23.1.244.151, 2600:1406:6c00:189::e59, 2600:1406:6c00:19a::e59\n",
            "Connecting to download.microsoft.com (download.microsoft.com)|23.1.244.151|:443... connected.\n",
            "HTTP request sent, awaiting response... 200 OK\n",
            "Length: 2022053 (1.9M) [application/octet-stream]\n",
            "Saving to: ‘MS-ASL.zip’\n",
            "\n",
            "\rMS-ASL.zip            0%[                    ]       0  --.-KB/s               \rMS-ASL.zip          100%[===================>]   1.93M  --.-KB/s    in 0.1s    \n",
            "\n",
            "2020-03-23 07:44:13 (16.2 MB/s) - ‘MS-ASL.zip’ saved [2022053/2022053]\n",
            "\n",
            "Archive:  MS-ASL.zip\n",
            "  inflating: MS-ASL/C-UDA-0.1_annotated_discussion.pdf  \n",
            "  inflating: MS-ASL/MSASL_classes.json  \n",
            "  inflating: MS-ASL/MSASL_synonym.json  \n",
            "  inflating: MS-ASL/MSASL_test.json  \n",
            "  inflating: MS-ASL/MSASL_train.json  \n",
            "  inflating: MS-ASL/MSASL_val.json   \n",
            "  inflating: MS-ASL/README.md        \n",
            "Uninstalling scipy-1.4.1:\n",
            "  Would remove:\n",
            "    /usr/local/lib/python3.6/dist-packages/scipy-1.4.1.dist-info/*\n",
            "    /usr/local/lib/python3.6/dist-packages/scipy/*\n",
            "Proceed (y/n)? y\n",
            "  Successfully uninstalled scipy-1.4.1\n",
            "Collecting scipy==1.1.0\n",
            "\u001b[?25l  Downloading https://files.pythonhosted.org/packages/a8/0b/f163da98d3a01b3e0ef1cab8dd2123c34aee2bafbb1c5bffa354cc8a1730/scipy-1.1.0-cp36-cp36m-manylinux1_x86_64.whl (31.2MB)\n",
            "\u001b[K     |████████████████████████████████| 31.2MB 142kB/s \n",
            "\u001b[?25hRequirement already satisfied: numpy>=1.8.2 in /usr/local/lib/python3.6/dist-packages (from scipy==1.1.0) (1.18.2)\n",
            "\u001b[31mERROR: tensorflow-federated 0.12.0 has requirement tensorflow~=2.1.0, but you'll have tensorflow 1.15.0 which is incompatible.\u001b[0m\n",
            "\u001b[31mERROR: tensorflow-federated 0.12.0 has requirement tensorflow-addons~=0.7.0, but you'll have tensorflow-addons 0.8.3 which is incompatible.\u001b[0m\n",
            "\u001b[31mERROR: plotnine 0.6.0 has requirement scipy>=1.2.0, but you'll have scipy 1.1.0 which is incompatible.\u001b[0m\n",
            "\u001b[31mERROR: albumentations 0.1.12 has requirement imgaug<0.2.7,>=0.2.5, but you'll have imgaug 0.2.9 which is incompatible.\u001b[0m\n",
            "Installing collected packages: scipy\n",
            "Successfully installed scipy-1.1.0\n",
            "Collecting pafy\n",
            "  Downloading https://files.pythonhosted.org/packages/74/69/829919eeadff695338f98fa12bb99e45490761a2010c8d688d88b6df194a/pafy-0.5.5-py2.py3-none-any.whl\n",
            "Installing collected packages: pafy\n",
            "Successfully installed pafy-0.5.5\n",
            "Collecting youtube-dl\n",
            "\u001b[?25l  Downloading https://files.pythonhosted.org/packages/6c/93/aacfa17b0ce61d5c3786da825e085639d3430e8f81f3531a3dc738c9c80c/youtube_dl-2020.3.8-py2.py3-none-any.whl (1.8MB)\n",
            "\u001b[K     |████████████████████████████████| 1.8MB 5.1MB/s \n",
            "\u001b[?25hInstalling collected packages: youtube-dl\n",
            "Successfully installed youtube-dl-2020.3.8\n"
          ],
          "name": "stdout"
        }
      ]
    },
    {
      "cell_type": "code",
      "metadata": {
        "id": "qgVpPK7mN-9h",
        "colab_type": "code",
        "colab": {}
      },
      "source": [
        "import json\n",
        "import pandas as pd\n",
        "import pickle\n",
        "import os\n",
        "import cv2\n",
        "import numpy as np\n",
        "import scipy\n",
        "from scipy.misc import imread\n",
        "import  pickle\n",
        "import random\n",
        "import os\n",
        "import matplotlib.pyplot as plt\n",
        "import pafy\n",
        "from google.colab.patches import cv2_imshow\n",
        "import torch\n",
        "IMAGE_SIZE =400\n",
        "NO_OF_WORDS = 5"
      ],
      "execution_count": 0,
      "outputs": []
    },
    {
      "cell_type": "code",
      "metadata": {
        "id": "k-eUyTIdesk5",
        "colab_type": "code",
        "outputId": "fbcb3026-4cf2-4718-d5e6-f2ae0dcd46ab",
        "colab": {
          "base_uri": "https://localhost:8080/",
          "height": 51
        }
      },
      "source": [
        "print(\"Files in the  current Directory\",os.listdir())\n",
        "print(\"Files in the MS-ASL directory\",os.listdir('MS-ASL'))"
      ],
      "execution_count": 3,
      "outputs": [
        {
          "output_type": "stream",
          "text": [
            "Files in the  current Directory ['.config', 'MS-ASL.zip', 'MS-ASL', 'sample_data']\n",
            "Files in the MS-ASL directory ['C-UDA-0.1_annotated_discussion.pdf', 'MSASL_train.json', 'README.md', 'MSASL_val.json', 'MSASL_classes.json', 'MSASL_test.json', 'MSASL_synonym.json']\n"
          ],
          "name": "stdout"
        }
      ]
    },
    {
      "cell_type": "markdown",
      "metadata": {
        "id": "lg0zC5PDwTGx",
        "colab_type": "text"
      },
      "source": [
        "**Pre Process Training Data**\n"
      ]
    },
    {
      "cell_type": "code",
      "metadata": {
        "id": "M4xX3KWAKtTU",
        "colab_type": "code",
        "outputId": "beb59418-68a6-41b0-93d8-eb1158bd41b7",
        "colab": {
          "base_uri": "https://localhost:8080/",
          "height": 374
        }
      },
      "source": [
        "\n",
        "with open('MS-ASL/MSASL_train.json') as f:\n",
        "  train_data = json.load(f)\n",
        "train_df = pd.DataFrame(train_data)\n",
        "train_df.head()"
      ],
      "execution_count": 4,
      "outputs": [
        {
          "output_type": "execute_result",
          "data": {
            "text/html": [
              "<div>\n",
              "<style scoped>\n",
              "    .dataframe tbody tr th:only-of-type {\n",
              "        vertical-align: middle;\n",
              "    }\n",
              "\n",
              "    .dataframe tbody tr th {\n",
              "        vertical-align: top;\n",
              "    }\n",
              "\n",
              "    .dataframe thead th {\n",
              "        text-align: right;\n",
              "    }\n",
              "</style>\n",
              "<table border=\"1\" class=\"dataframe\">\n",
              "  <thead>\n",
              "    <tr style=\"text-align: right;\">\n",
              "      <th></th>\n",
              "      <th>org_text</th>\n",
              "      <th>clean_text</th>\n",
              "      <th>start_time</th>\n",
              "      <th>signer_id</th>\n",
              "      <th>signer</th>\n",
              "      <th>start</th>\n",
              "      <th>end</th>\n",
              "      <th>file</th>\n",
              "      <th>label</th>\n",
              "      <th>height</th>\n",
              "      <th>fps</th>\n",
              "      <th>end_time</th>\n",
              "      <th>url</th>\n",
              "      <th>text</th>\n",
              "      <th>box</th>\n",
              "      <th>width</th>\n",
              "      <th>review</th>\n",
              "    </tr>\n",
              "  </thead>\n",
              "  <tbody>\n",
              "    <tr>\n",
              "      <th>0</th>\n",
              "      <td>match [light-a-MATCH]</td>\n",
              "      <td>match</td>\n",
              "      <td>0.0</td>\n",
              "      <td>0</td>\n",
              "      <td>0</td>\n",
              "      <td>0</td>\n",
              "      <td>83</td>\n",
              "      <td>match light-a-MATCH</td>\n",
              "      <td>830</td>\n",
              "      <td>360.0</td>\n",
              "      <td>30.00</td>\n",
              "      <td>2.767</td>\n",
              "      <td>https://www.youtube.com/watch?v=C37R_Ix8-qs</td>\n",
              "      <td>match</td>\n",
              "      <td>[0.05754461884498596, 0.21637457609176636, 1.0...</td>\n",
              "      <td>640.0</td>\n",
              "      <td>NaN</td>\n",
              "    </tr>\n",
              "    <tr>\n",
              "      <th>1</th>\n",
              "      <td>FAIL</td>\n",
              "      <td>fail</td>\n",
              "      <td>0.0</td>\n",
              "      <td>0</td>\n",
              "      <td>-1</td>\n",
              "      <td>0</td>\n",
              "      <td>74</td>\n",
              "      <td>FAIL</td>\n",
              "      <td>542</td>\n",
              "      <td>360.0</td>\n",
              "      <td>25.00</td>\n",
              "      <td>2.960</td>\n",
              "      <td>https://www.youtube.com/watch?v=PIsUJl8BN_I</td>\n",
              "      <td>fail</td>\n",
              "      <td>[0.0657794177532196, 0.16717177629470825, 0.93...</td>\n",
              "      <td>480.0</td>\n",
              "      <td>NaN</td>\n",
              "    </tr>\n",
              "    <tr>\n",
              "      <th>2</th>\n",
              "      <td>laugh</td>\n",
              "      <td>laugh</td>\n",
              "      <td>0.0</td>\n",
              "      <td>4</td>\n",
              "      <td>26</td>\n",
              "      <td>0</td>\n",
              "      <td>31</td>\n",
              "      <td>SignSchool Laugh with Legs 2</td>\n",
              "      <td>312</td>\n",
              "      <td>360.0</td>\n",
              "      <td>29.97</td>\n",
              "      <td>1.034</td>\n",
              "      <td>www.youtube.com/watch?v=9FdHlMOnVjg</td>\n",
              "      <td>laugh</td>\n",
              "      <td>[0.13188594579696655, 0.32334136962890625, 1.0...</td>\n",
              "      <td>640.0</td>\n",
              "      <td>NaN</td>\n",
              "    </tr>\n",
              "    <tr>\n",
              "      <th>3</th>\n",
              "      <td>BOOK</td>\n",
              "      <td>book</td>\n",
              "      <td>0.0</td>\n",
              "      <td>0</td>\n",
              "      <td>-1</td>\n",
              "      <td>0</td>\n",
              "      <td>66</td>\n",
              "      <td>BOOK(3)</td>\n",
              "      <td>38</td>\n",
              "      <td>360.0</td>\n",
              "      <td>25.00</td>\n",
              "      <td>2.640</td>\n",
              "      <td>https://www.youtube.com/watch?v=J7tP98oDxqE</td>\n",
              "      <td>book</td>\n",
              "      <td>[0.05569887161254883, 0.25173279643058777, 0.9...</td>\n",
              "      <td>480.0</td>\n",
              "      <td>NaN</td>\n",
              "    </tr>\n",
              "    <tr>\n",
              "      <th>4</th>\n",
              "      <td>sign-language</td>\n",
              "      <td>sign language</td>\n",
              "      <td>0.0</td>\n",
              "      <td>0</td>\n",
              "      <td>-1</td>\n",
              "      <td>0</td>\n",
              "      <td>75</td>\n",
              "      <td>SIGN-LANGUAGE-S-CLAW-F</td>\n",
              "      <td>848</td>\n",
              "      <td>360.0</td>\n",
              "      <td>29.97</td>\n",
              "      <td>2.502</td>\n",
              "      <td>www.youtube.com/watch?v=N2mG9ZKjrGA</td>\n",
              "      <td>sign language</td>\n",
              "      <td>[0.03904399275779724, 0.24198183417320251, 1.0...</td>\n",
              "      <td>640.0</td>\n",
              "      <td>NaN</td>\n",
              "    </tr>\n",
              "  </tbody>\n",
              "</table>\n",
              "</div>"
            ],
            "text/plain": [
              "                org_text     clean_text  ...  width  review\n",
              "0  match [light-a-MATCH]          match  ...  640.0     NaN\n",
              "1                   FAIL           fail  ...  480.0     NaN\n",
              "2                  laugh          laugh  ...  640.0     NaN\n",
              "3                   BOOK           book  ...  480.0     NaN\n",
              "4          sign-language  sign language  ...  640.0     NaN\n",
              "\n",
              "[5 rows x 17 columns]"
            ]
          },
          "metadata": {
            "tags": []
          },
          "execution_count": 4
        }
      ]
    },
    {
      "cell_type": "code",
      "metadata": {
        "id": "KUhn_o3VcHKW",
        "colab_type": "code",
        "colab": {
          "base_uri": "https://localhost:8080/",
          "height": 231
        },
        "outputId": "9d52c064-5aca-4257-fe61-74df38990c3a"
      },
      "source": [
        "sample_labels  = train_df['text'].value_counts()[0:NO_OF_WORDS].index.tolist() #training it on top 5 sample labels\n",
        "train_df = train_df[train_df['text'].isin(sample_labels)]\n",
        "train_df.reset_index(inplace=True)\n",
        "avg_frame_train = process_entire_df(train_df)\n",
        "\n",
        "data_classes = train_df['text'].unique().tolist()\n",
        "train_df['text_no'] = train_df['text'].apply(data_classes.index)\n",
        "train_labels = train_df['text_no'].tolist()\n",
        "train_data_processed = (avg_frame_train,train_labels)\n",
        "pickle.dump(train_data_processed,open(\"train_data_processed.pkl\",'wb'))"
      ],
      "execution_count": 5,
      "outputs": [
        {
          "output_type": "error",
          "ename": "NameError",
          "evalue": "ignored",
          "traceback": [
            "\u001b[0;31m---------------------------------------------------------------------------\u001b[0m",
            "\u001b[0;31mNameError\u001b[0m                                 Traceback (most recent call last)",
            "\u001b[0;32m<ipython-input-5-dcd8d14d6b03>\u001b[0m in \u001b[0;36m<module>\u001b[0;34m()\u001b[0m\n\u001b[1;32m      2\u001b[0m \u001b[0mtrain_df\u001b[0m \u001b[0;34m=\u001b[0m \u001b[0mtrain_df\u001b[0m\u001b[0;34m[\u001b[0m\u001b[0mtrain_df\u001b[0m\u001b[0;34m[\u001b[0m\u001b[0;34m'text'\u001b[0m\u001b[0;34m]\u001b[0m\u001b[0;34m.\u001b[0m\u001b[0misin\u001b[0m\u001b[0;34m(\u001b[0m\u001b[0msample_labels\u001b[0m\u001b[0;34m)\u001b[0m\u001b[0;34m]\u001b[0m\u001b[0;34m\u001b[0m\u001b[0;34m\u001b[0m\u001b[0m\n\u001b[1;32m      3\u001b[0m \u001b[0mtrain_df\u001b[0m\u001b[0;34m.\u001b[0m\u001b[0mreset_index\u001b[0m\u001b[0;34m(\u001b[0m\u001b[0minplace\u001b[0m\u001b[0;34m=\u001b[0m\u001b[0;32mTrue\u001b[0m\u001b[0;34m)\u001b[0m\u001b[0;34m\u001b[0m\u001b[0;34m\u001b[0m\u001b[0m\n\u001b[0;32m----> 4\u001b[0;31m \u001b[0mavg_frame_train\u001b[0m \u001b[0;34m=\u001b[0m \u001b[0mprocess_entire_df\u001b[0m\u001b[0;34m(\u001b[0m\u001b[0mtrain_df\u001b[0m\u001b[0;34m)\u001b[0m\u001b[0;34m\u001b[0m\u001b[0;34m\u001b[0m\u001b[0m\n\u001b[0m\u001b[1;32m      5\u001b[0m \u001b[0;34m\u001b[0m\u001b[0m\n\u001b[1;32m      6\u001b[0m \u001b[0mdata_classes\u001b[0m \u001b[0;34m=\u001b[0m \u001b[0mtrain_df\u001b[0m\u001b[0;34m[\u001b[0m\u001b[0;34m'text'\u001b[0m\u001b[0;34m]\u001b[0m\u001b[0;34m.\u001b[0m\u001b[0munique\u001b[0m\u001b[0;34m(\u001b[0m\u001b[0;34m)\u001b[0m\u001b[0;34m.\u001b[0m\u001b[0mtolist\u001b[0m\u001b[0;34m(\u001b[0m\u001b[0;34m)\u001b[0m\u001b[0;34m\u001b[0m\u001b[0;34m\u001b[0m\u001b[0m\n",
            "\u001b[0;31mNameError\u001b[0m: name 'process_entire_df' is not defined"
          ]
        }
      ]
    },
    {
      "cell_type": "markdown",
      "metadata": {
        "id": "3jqFhdrDwhoQ",
        "colab_type": "text"
      },
      "source": [
        "**Validation Dataset Preprocessing**"
      ]
    },
    {
      "cell_type": "code",
      "metadata": {
        "id": "lOg60lCsPPXZ",
        "colab_type": "code",
        "outputId": "c1bf09f4-6c8c-4c94-defc-20b28fa6748b",
        "colab": {
          "base_uri": "https://localhost:8080/",
          "height": 374
        }
      },
      "source": [
        "with open('MS-ASL/MSASL_val.json') as f:\n",
        "  val_data = json.load(f)\n",
        "val_df = pd.DataFrame(val_data)\n",
        "val_df.head()"
      ],
      "execution_count": 0,
      "outputs": [
        {
          "output_type": "execute_result",
          "data": {
            "text/html": [
              "<div>\n",
              "<style scoped>\n",
              "    .dataframe tbody tr th:only-of-type {\n",
              "        vertical-align: middle;\n",
              "    }\n",
              "\n",
              "    .dataframe tbody tr th {\n",
              "        vertical-align: top;\n",
              "    }\n",
              "\n",
              "    .dataframe thead th {\n",
              "        text-align: right;\n",
              "    }\n",
              "</style>\n",
              "<table border=\"1\" class=\"dataframe\">\n",
              "  <thead>\n",
              "    <tr style=\"text-align: right;\">\n",
              "      <th></th>\n",
              "      <th>org_text</th>\n",
              "      <th>clean_text</th>\n",
              "      <th>start_time</th>\n",
              "      <th>signer_id</th>\n",
              "      <th>signer</th>\n",
              "      <th>start</th>\n",
              "      <th>end</th>\n",
              "      <th>file</th>\n",
              "      <th>label</th>\n",
              "      <th>height</th>\n",
              "      <th>fps</th>\n",
              "      <th>end_time</th>\n",
              "      <th>url</th>\n",
              "      <th>text</th>\n",
              "      <th>box</th>\n",
              "      <th>width</th>\n",
              "      <th>review</th>\n",
              "    </tr>\n",
              "  </thead>\n",
              "  <tbody>\n",
              "    <tr>\n",
              "      <th>0</th>\n",
              "      <td>absent</td>\n",
              "      <td>absent</td>\n",
              "      <td>0.0</td>\n",
              "      <td>114</td>\n",
              "      <td>-1</td>\n",
              "      <td>0</td>\n",
              "      <td>37</td>\n",
              "      <td>ASL ABSENT</td>\n",
              "      <td>837</td>\n",
              "      <td>360.0</td>\n",
              "      <td>28.971</td>\n",
              "      <td>1.277</td>\n",
              "      <td>https://www.youtube.com/watch?v=ri3NrdgfAtE</td>\n",
              "      <td>absent</td>\n",
              "      <td>[0.2189638912677765, 0.00856819748878479, 0.99...</td>\n",
              "      <td>202.0</td>\n",
              "      <td>NaN</td>\n",
              "    </tr>\n",
              "    <tr>\n",
              "      <th>1</th>\n",
              "      <td>help</td>\n",
              "      <td>help</td>\n",
              "      <td>0.0</td>\n",
              "      <td>76</td>\n",
              "      <td>42</td>\n",
              "      <td>0</td>\n",
              "      <td>110</td>\n",
              "      <td>help 2</td>\n",
              "      <td>50</td>\n",
              "      <td>360.0</td>\n",
              "      <td>29.970</td>\n",
              "      <td>3.670</td>\n",
              "      <td>www.youtube.com/watch?v=l31UXgChCS4</td>\n",
              "      <td>help</td>\n",
              "      <td>[0.05037271976470947, 0.2994125783443451, 1.0,...</td>\n",
              "      <td>640.0</td>\n",
              "      <td>NaN</td>\n",
              "    </tr>\n",
              "    <tr>\n",
              "      <th>2</th>\n",
              "      <td>come on</td>\n",
              "      <td>come on</td>\n",
              "      <td>0.0</td>\n",
              "      <td>114</td>\n",
              "      <td>-1</td>\n",
              "      <td>0</td>\n",
              "      <td>41</td>\n",
              "      <td>asl come on</td>\n",
              "      <td>889</td>\n",
              "      <td>360.0</td>\n",
              "      <td>25.000</td>\n",
              "      <td>1.640</td>\n",
              "      <td>https://www.youtube.com/watch?v=pt9bV_EvcaU</td>\n",
              "      <td>come on</td>\n",
              "      <td>[0.08946925401687622, 0.17948511242866516, 0.9...</td>\n",
              "      <td>480.0</td>\n",
              "      <td>NaN</td>\n",
              "    </tr>\n",
              "    <tr>\n",
              "      <th>3</th>\n",
              "      <td>LANGUAGE</td>\n",
              "      <td>language</td>\n",
              "      <td>0.0</td>\n",
              "      <td>3</td>\n",
              "      <td>-1</td>\n",
              "      <td>0</td>\n",
              "      <td>56</td>\n",
              "      <td>LANGUAGE(3)</td>\n",
              "      <td>513</td>\n",
              "      <td>360.0</td>\n",
              "      <td>15.000</td>\n",
              "      <td>3.733</td>\n",
              "      <td>https://www.youtube.com/watch?v=-j1wozf6o9w</td>\n",
              "      <td>language</td>\n",
              "      <td>[0.1770857870578766, 0.003668457269668579, 1.0...</td>\n",
              "      <td>480.0</td>\n",
              "      <td>NaN</td>\n",
              "    </tr>\n",
              "    <tr>\n",
              "      <th>4</th>\n",
              "      <td>confused</td>\n",
              "      <td>confused</td>\n",
              "      <td>0.0</td>\n",
              "      <td>53</td>\n",
              "      <td>-1</td>\n",
              "      <td>0</td>\n",
              "      <td>95</td>\n",
              "      <td>ASL Confused</td>\n",
              "      <td>272</td>\n",
              "      <td>360.0</td>\n",
              "      <td>29.969</td>\n",
              "      <td>3.170</td>\n",
              "      <td>https://www.youtube.com/watch?v=y8tHmOQcCwU</td>\n",
              "      <td>confused</td>\n",
              "      <td>[0.06262531876564026, 0.2099878489971161, 1.0,...</td>\n",
              "      <td>640.0</td>\n",
              "      <td>NaN</td>\n",
              "    </tr>\n",
              "  </tbody>\n",
              "</table>\n",
              "</div>"
            ],
            "text/plain": [
              "   org_text clean_text  ...  width  review\n",
              "0    absent     absent  ...  202.0     NaN\n",
              "1      help       help  ...  640.0     NaN\n",
              "2   come on    come on  ...  480.0     NaN\n",
              "3  LANGUAGE   language  ...  480.0     NaN\n",
              "4  confused   confused  ...  640.0     NaN\n",
              "\n",
              "[5 rows x 17 columns]"
            ]
          },
          "metadata": {
            "tags": []
          },
          "execution_count": 105
        }
      ]
    },
    {
      "cell_type": "code",
      "metadata": {
        "id": "GzXL-fK4LfXA",
        "colab_type": "code",
        "outputId": "4baa27df-b665-4e18-89a6-ac3897bd68e2",
        "colab": {
          "base_uri": "https://localhost:8080/",
          "height": 1000
        }
      },
      "source": [
        "val_df = val_df[val_df['text'].isin(sample_labels)]\n",
        "val_df.reset_index(inplace=True)\n",
        "avg_frame_val = process_entire_df(val_df)\n",
        "val_df['text_no'] = val_df['text'].apply(data_classes.index)\n",
        "val_labels = val_df['text_no'].tolist()\n",
        "val_data_processed = (avg_frame_val,val_labels)\n",
        "pickle.dump(val_data_processed,open(\"val_data_processed.pkl\",'wb'))"
      ],
      "execution_count": 0,
      "outputs": [
        {
          "output_type": "stream",
          "text": [
            "Total No of rows to be processed 66\n",
            "processing row-  89\n",
            "processing row-  274\n",
            "processing row-  275\n",
            "processing row-  567\n",
            "processing row-  638\n"
          ],
          "name": "stdout"
        },
        {
          "output_type": "stream",
          "text": [
            "ERROR: Content Warning\n",
            "If the owner of this video has granted you access, please sign in.\n",
            "       This video is private.\n"
          ],
          "name": "stderr"
        },
        {
          "output_type": "stream",
          "text": [
            "Video missing -  638\n",
            "processing row-  690\n",
            "processing row-  815\n",
            "processing row-  1000\n"
          ],
          "name": "stdout"
        },
        {
          "output_type": "stream",
          "text": [
            "ERROR: Content Warning\n",
            "If the owner of this video has granted you access, please sign in.\n",
            "       This video is private.\n"
          ],
          "name": "stderr"
        },
        {
          "output_type": "stream",
          "text": [
            "Video missing -  1000\n",
            "processing row-  1020\n"
          ],
          "name": "stdout"
        },
        {
          "output_type": "stream",
          "text": [
            "ERROR: Content Warning\n",
            "If the owner of this video has granted you access, please sign in.\n",
            "       This video is private.\n"
          ],
          "name": "stderr"
        },
        {
          "output_type": "stream",
          "text": [
            "Video missing -  1020\n",
            "processing row-  1063\n",
            "processing row-  1182\n",
            "processing row-  1243\n",
            "processing row-  1244\n",
            "processing row-  1348\n",
            "processing row-  1406\n"
          ],
          "name": "stdout"
        },
        {
          "output_type": "stream",
          "text": [
            "ERROR: Content Warning\n",
            "If the owner of this video has granted you access, please sign in.\n",
            "       This video is private.\n"
          ],
          "name": "stderr"
        },
        {
          "output_type": "stream",
          "text": [
            "Video missing -  1406\n",
            "processing row-  1407\n"
          ],
          "name": "stdout"
        },
        {
          "output_type": "stream",
          "text": [
            "ERROR: Content Warning\n",
            "If the owner of this video has granted you access, please sign in.\n",
            "       This video is private.\n"
          ],
          "name": "stderr"
        },
        {
          "output_type": "stream",
          "text": [
            "Video missing -  1407\n",
            "processing row-  1416\n"
          ],
          "name": "stdout"
        },
        {
          "output_type": "stream",
          "text": [
            "ERROR: Content Warning\n",
            "If the owner of this video has granted you access, please sign in.\n",
            "       This video is private.\n",
            "ERROR: fhF3y2UcnU0: YouTube said: This video is no longer available because the YouTube account associated with this video has been terminated.\n",
            "Sorry about that.\n"
          ],
          "name": "stderr"
        },
        {
          "output_type": "stream",
          "text": [
            "Video missing -  1416\n",
            "processing row-  1444\n",
            "Video missing -  1444\n",
            "processing row-  1633\n",
            "processing row-  1747\n",
            "processing row-  1836\n",
            "processing row-  1839\n",
            "processing row-  1852\n",
            "processing row-  1853\n",
            "processing row-  1912\n",
            "processing row-  2056\n"
          ],
          "name": "stdout"
        },
        {
          "output_type": "stream",
          "text": [
            "ERROR: iDWntsY_rZM: YouTube said: This video is unavailable.\n",
            "Sorry about that.\n"
          ],
          "name": "stderr"
        },
        {
          "output_type": "stream",
          "text": [
            "processing row-  2113\n",
            "Video missing -  2113\n",
            "processing row-  2143\n"
          ],
          "name": "stdout"
        },
        {
          "output_type": "stream",
          "text": [
            "ERROR: iDWntsY_rZM: YouTube said: This video is unavailable.\n",
            "Sorry about that.\n"
          ],
          "name": "stderr"
        },
        {
          "output_type": "stream",
          "text": [
            "Video missing -  2143\n",
            "processing row-  2314\n",
            "processing row-  2315\n"
          ],
          "name": "stdout"
        },
        {
          "output_type": "stream",
          "text": [
            "ERROR: wVrfhtSnUCQ: YouTube said: This video is no longer available because the YouTube account associated with this video has been terminated.\n",
            "Sorry about that.\n"
          ],
          "name": "stderr"
        },
        {
          "output_type": "stream",
          "text": [
            "processing row-  2394\n",
            "Video missing -  2394\n",
            "processing row-  2485\n",
            "processing row-  2526\n",
            "processing row-  2657\n",
            "processing row-  2678\n",
            "processing row-  2703\n"
          ],
          "name": "stdout"
        },
        {
          "output_type": "stream",
          "text": [
            "ERROR: Content Warning\n",
            "If the owner of this video has granted you access, please sign in.\n",
            "       This video is private.\n"
          ],
          "name": "stderr"
        },
        {
          "output_type": "stream",
          "text": [
            "Video missing -  2703\n",
            "processing row-  2732\n"
          ],
          "name": "stdout"
        },
        {
          "output_type": "stream",
          "text": [
            "ERROR: Content Warning\n",
            "If the owner of this video has granted you access, please sign in.\n",
            "       This video is private.\n"
          ],
          "name": "stderr"
        },
        {
          "output_type": "stream",
          "text": [
            "Video missing -  2732\n",
            "processing row-  3030\n",
            "processing row-  3035\n",
            "processing row-  3036\n",
            "processing row-  3142\n",
            "processing row-  3209\n",
            "processing row-  3367\n",
            "processing row-  3585\n",
            "processing row-  3678\n"
          ],
          "name": "stdout"
        },
        {
          "output_type": "stream",
          "text": [
            "ERROR: MU3_iURZyqY: YouTube said: This video is unavailable.\n",
            "Sorry about that.\n"
          ],
          "name": "stderr"
        },
        {
          "output_type": "stream",
          "text": [
            "processing row-  3858\n",
            "Video missing -  3858\n",
            "processing row-  3870\n"
          ],
          "name": "stdout"
        },
        {
          "output_type": "stream",
          "text": [
            "ERROR: MU3_iURZyqY: YouTube said: This video is unavailable.\n",
            "Sorry about that.\n"
          ],
          "name": "stderr"
        },
        {
          "output_type": "stream",
          "text": [
            "Video missing -  3870\n",
            "processing row-  3896\n",
            "processing row-  3981\n",
            "processing row-  4087\n"
          ],
          "name": "stdout"
        },
        {
          "output_type": "stream",
          "text": [
            "ERROR: Content Warning\n",
            "If the owner of this video has granted you access, please sign in.\n",
            "       This video is private.\n"
          ],
          "name": "stderr"
        },
        {
          "output_type": "stream",
          "text": [
            "Video missing -  4087\n",
            "processing row-  4123\n"
          ],
          "name": "stdout"
        },
        {
          "output_type": "stream",
          "text": [
            "ERROR: Content Warning\n",
            "If the owner of this video has granted you access, please sign in.\n",
            "       This video is private.\n"
          ],
          "name": "stderr"
        },
        {
          "output_type": "stream",
          "text": [
            "Video missing -  4123\n",
            "processing row-  4285\n",
            "processing row-  4347\n",
            "processing row-  4358\n",
            "processing row-  4359\n",
            "processing row-  4509\n",
            "processing row-  4621\n",
            "processing row-  4622\n",
            "processing row-  4668\n",
            "processing row-  4681\n",
            "processing row-  4748\n",
            "processing row-  4853\n",
            "processing row-  4946\n",
            "processing row-  4947\n",
            "processing row-  4961\n",
            "processing row-  5199\n"
          ],
          "name": "stdout"
        }
      ]
    },
    {
      "cell_type": "code",
      "metadata": {
        "id": "Trob6exb3DW6",
        "colab_type": "code",
        "colab": {}
      },
      "source": [
        "pickle.dump(val_data_processed,open(\"val_data_processed.pkl\",'wb'))"
      ],
      "execution_count": 0,
      "outputs": []
    },
    {
      "cell_type": "markdown",
      "metadata": {
        "id": "M1cLpH74wvZC",
        "colab_type": "text"
      },
      "source": [
        "Save Content to Google Drive\n"
      ]
    },
    {
      "cell_type": "code",
      "metadata": {
        "id": "feZQckavUOPs",
        "colab_type": "code",
        "colab": {
          "base_uri": "https://localhost:8080/",
          "height": 122
        },
        "outputId": "023f570f-3e34-4bfc-f65a-f61acf492bfb"
      },
      "source": [
        "from google.colab import drive\n",
        "drive.mount('/content/gdrive') "
      ],
      "execution_count": 13,
      "outputs": [
        {
          "output_type": "stream",
          "text": [
            "Go to this URL in a browser: https://accounts.google.com/o/oauth2/auth?client_id=947318989803-6bn6qk8qdgf4n4g3pfee6491hc0brc4i.apps.googleusercontent.com&redirect_uri=urn%3aietf%3awg%3aoauth%3a2.0%3aoob&response_type=code&scope=email%20https%3a%2f%2fwww.googleapis.com%2fauth%2fdocs.test%20https%3a%2f%2fwww.googleapis.com%2fauth%2fdrive%20https%3a%2f%2fwww.googleapis.com%2fauth%2fdrive.photos.readonly%20https%3a%2f%2fwww.googleapis.com%2fauth%2fpeopleapi.readonly\n",
            "\n",
            "Enter your authorization code:\n",
            "··········\n",
            "Mounted at /content/gdrive\n"
          ],
          "name": "stdout"
        }
      ]
    },
    {
      "cell_type": "code",
      "metadata": {
        "id": "vY7vF1rgFSCW",
        "colab_type": "code",
        "colab": {
          "base_uri": "https://localhost:8080/",
          "height": 136
        },
        "outputId": "551ec319-c3a7-408a-d3b0-8bc06c7c2491"
      },
      "source": [
        "!ls \"/content/gdrive/My Drive\""
      ],
      "execution_count": 14,
      "outputs": [
        {
          "output_type": "stream",
          "text": [
            "'0. Imp Personal Docs'\t    '7. Resumes'\t\t  Investments\n",
            "'1. Academic Certificates'  '8. Apartment docs'\t\t  model.pkl\n",
            "'2. WorkExp-Payslip'\t    '9. Leo documents'\t\t 'my photos'\n",
            "'3. Income tax'\t\t     Backups\t\t\t 'Old files'\n",
            "'4. Car n Bike documents'    Books\t\t\t 'Personal photos'\n",
            "'5. Medical reports'\t    'Colab Notebooks'\t\t  train_data.pkl\n",
            "'6. Neethu docs'\t    'Investment details.gsheet'   val_data.pkl\n"
          ],
          "name": "stdout"
        }
      ]
    },
    {
      "cell_type": "code",
      "metadata": {
        "id": "_-1b29OLGBx0",
        "colab_type": "code",
        "colab": {
          "base_uri": "https://localhost:8080/",
          "height": 180
        },
        "outputId": "11c73069-2e3f-4c87-ebbb-d925edac2a6a"
      },
      "source": [
        "torch.save(train_data_processed,\"/content/gdrive/My Drive/train_data.pkl\")\n",
        "torch.save(val_data_processed,\"/content/gdrive/My Drive/val_data.pkl\")"
      ],
      "execution_count": 10,
      "outputs": [
        {
          "output_type": "error",
          "ename": "NameError",
          "evalue": "ignored",
          "traceback": [
            "\u001b[0;31m---------------------------------------------------------------------------\u001b[0m",
            "\u001b[0;31mNameError\u001b[0m                                 Traceback (most recent call last)",
            "\u001b[0;32m<ipython-input-10-63509b60c7b7>\u001b[0m in \u001b[0;36m<module>\u001b[0;34m()\u001b[0m\n\u001b[0;32m----> 1\u001b[0;31m \u001b[0mtorch\u001b[0m\u001b[0;34m.\u001b[0m\u001b[0msave\u001b[0m\u001b[0;34m(\u001b[0m\u001b[0mtrain_data_processed\u001b[0m\u001b[0;34m,\u001b[0m\u001b[0;34m\"/content/gdrive/My Drive/train_data.pkl\"\u001b[0m\u001b[0;34m)\u001b[0m\u001b[0;34m\u001b[0m\u001b[0;34m\u001b[0m\u001b[0m\n\u001b[0m\u001b[1;32m      2\u001b[0m \u001b[0mtorch\u001b[0m\u001b[0;34m.\u001b[0m\u001b[0msave\u001b[0m\u001b[0;34m(\u001b[0m\u001b[0mval_data_processed\u001b[0m\u001b[0;34m,\u001b[0m\u001b[0;34m\"/content/gdrive/My Drive/val_data.pkl\"\u001b[0m\u001b[0;34m)\u001b[0m\u001b[0;34m\u001b[0m\u001b[0;34m\u001b[0m\u001b[0m\n",
            "\u001b[0;31mNameError\u001b[0m: name 'train_data_processed' is not defined"
          ]
        }
      ]
    },
    {
      "cell_type": "code",
      "metadata": {
        "id": "oT12EC9lXA0m",
        "colab_type": "code",
        "colab": {}
      },
      "source": [
        "torch.load()"
      ],
      "execution_count": 0,
      "outputs": []
    },
    {
      "cell_type": "markdown",
      "metadata": {
        "id": "jgrQ3iXExJ5y",
        "colab_type": "text"
      },
      "source": [
        "### **Deep Learning Part of the Code**\n"
      ]
    },
    {
      "cell_type": "code",
      "metadata": {
        "id": "mylpmWdrF7vH",
        "colab_type": "code",
        "colab": {}
      },
      "source": [
        "from keras import optimizers\n",
        "from keras.models import Sequential\n",
        "from keras.layers import Dense\n",
        "from keras.layers import Dropout\n",
        "from keras.layers import Flatten\n",
        "from keras.layers.convolutional import Conv2D\n",
        "from keras.layers.convolutional import MaxPooling2D\n",
        "from keras.utils import np_utils\n",
        "from keras.callbacks import ModelCheckpoint\n",
        "from keras import backend as K\n",
        "#K.set_image_dim_ordering('tf')"
      ],
      "execution_count": 0,
      "outputs": []
    },
    {
      "cell_type": "markdown",
      "metadata": {
        "id": "uc00sf2GxajT",
        "colab_type": "text"
      },
      "source": [
        "### Train of the Model Starts Here"
      ]
    },
    {
      "cell_type": "code",
      "metadata": {
        "id": "J8EF4mBW3PQl",
        "colab_type": "code",
        "colab": {
          "base_uri": "https://localhost:8080/",
          "height": 197
        },
        "outputId": "25112fac-730a-4e57-d8e4-a63c2415edd8"
      },
      "source": [
        "train_df['text_no'] = train_df['text'].apply(data_classes.index)\n",
        "train_labels = train_df['text_no'].tolist()"
      ],
      "execution_count": 15,
      "outputs": [
        {
          "output_type": "error",
          "ename": "NameError",
          "evalue": "ignored",
          "traceback": [
            "\u001b[0;31m---------------------------------------------------------------------------\u001b[0m",
            "\u001b[0;31mNameError\u001b[0m                                 Traceback (most recent call last)",
            "\u001b[0;32m<ipython-input-15-327343a812a5>\u001b[0m in \u001b[0;36m<module>\u001b[0;34m()\u001b[0m\n\u001b[1;32m      1\u001b[0m \u001b[0;34m\u001b[0m\u001b[0m\n\u001b[0;32m----> 2\u001b[0;31m \u001b[0mtrain_df\u001b[0m\u001b[0;34m[\u001b[0m\u001b[0;34m'text_no'\u001b[0m\u001b[0;34m]\u001b[0m \u001b[0;34m=\u001b[0m \u001b[0mtrain_df\u001b[0m\u001b[0;34m[\u001b[0m\u001b[0;34m'text'\u001b[0m\u001b[0;34m]\u001b[0m\u001b[0;34m.\u001b[0m\u001b[0mapply\u001b[0m\u001b[0;34m(\u001b[0m\u001b[0mdata_classes\u001b[0m\u001b[0;34m.\u001b[0m\u001b[0mindex\u001b[0m\u001b[0;34m)\u001b[0m\u001b[0;34m\u001b[0m\u001b[0;34m\u001b[0m\u001b[0m\n\u001b[0m\u001b[1;32m      3\u001b[0m \u001b[0mtrain_labels\u001b[0m \u001b[0;34m=\u001b[0m \u001b[0mtrain_df\u001b[0m\u001b[0;34m[\u001b[0m\u001b[0;34m'text_no'\u001b[0m\u001b[0;34m]\u001b[0m\u001b[0;34m.\u001b[0m\u001b[0mtolist\u001b[0m\u001b[0;34m(\u001b[0m\u001b[0;34m)\u001b[0m\u001b[0;34m\u001b[0m\u001b[0;34m\u001b[0m\u001b[0m\n",
            "\u001b[0;31mNameError\u001b[0m: name 'data_classes' is not defined"
          ]
        }
      ]
    },
    {
      "cell_type": "code",
      "metadata": {
        "id": "RBokPP6vDxoP",
        "colab_type": "code",
        "outputId": "dee9a745-6757-40e4-897c-f359a415cc74",
        "colab": {
          "base_uri": "https://localhost:8080/",
          "height": 697
        }
      },
      "source": [
        "\n",
        "\n",
        "#with open(\"train_data_processed.pkl\", \"rb\") as f:\n",
        "train_data  = torch.load(\"/content/gdrive/My Drive/train_data.pkl\")\n",
        "train_images,train_labels =train_data\n",
        "\n",
        "train_labels = train_df['text_no']\n",
        "\n",
        "\n",
        "#with open(\"val_data_processed.pkl\", \"rb\") as f:\n",
        "#  val_data = pickle.load(f)\n",
        "val_data = torch.load(\"/content/gdrive/My Drive/val_data.pkl\")\n",
        "val_images, val_labels = val_data\n",
        "\n",
        "\n",
        "train_images = np.reshape(train_images, (train_images.shape[0], IMAGE_SIZE, IMAGE_SIZE, 1))\n",
        "val_images = np.reshape(val_images, (val_images.shape[0], IMAGE_SIZE, IMAGE_SIZE, 1))\n",
        "train_labels = np_utils.to_categorical(train_labels)\n",
        "val_labels = np_utils.to_categorical(val_labels)\n",
        "\n",
        "\n",
        "model, callbacks_list = cnn_model()\n",
        "model.summary()\n",
        "model.fit(train_images, train_labels, validation_data=(val_images, val_labels), epochs=15, batch_size=500, callbacks=callbacks_list)\n",
        "scores = model.evaluate(val_images, val_labels, verbose=0)\n",
        "print(\"CNN Error: %.2f%%\" % (100-scores[1]*100))\n",
        "torch.save(model,\"/content/gdrive/My Drive/model.pkl\")"
      ],
      "execution_count": 16,
      "outputs": [
        {
          "output_type": "error",
          "ename": "KeyError",
          "evalue": "ignored",
          "traceback": [
            "\u001b[0;31m---------------------------------------------------------------------------\u001b[0m",
            "\u001b[0;31mKeyError\u001b[0m                                  Traceback (most recent call last)",
            "\u001b[0;32m/usr/local/lib/python3.6/dist-packages/pandas/core/indexes/base.py\u001b[0m in \u001b[0;36mget_loc\u001b[0;34m(self, key, method, tolerance)\u001b[0m\n\u001b[1;32m   2896\u001b[0m             \u001b[0;32mtry\u001b[0m\u001b[0;34m:\u001b[0m\u001b[0;34m\u001b[0m\u001b[0;34m\u001b[0m\u001b[0m\n\u001b[0;32m-> 2897\u001b[0;31m                 \u001b[0;32mreturn\u001b[0m \u001b[0mself\u001b[0m\u001b[0;34m.\u001b[0m\u001b[0m_engine\u001b[0m\u001b[0;34m.\u001b[0m\u001b[0mget_loc\u001b[0m\u001b[0;34m(\u001b[0m\u001b[0mkey\u001b[0m\u001b[0;34m)\u001b[0m\u001b[0;34m\u001b[0m\u001b[0;34m\u001b[0m\u001b[0m\n\u001b[0m\u001b[1;32m   2898\u001b[0m             \u001b[0;32mexcept\u001b[0m \u001b[0mKeyError\u001b[0m\u001b[0;34m:\u001b[0m\u001b[0;34m\u001b[0m\u001b[0;34m\u001b[0m\u001b[0m\n",
            "\u001b[0;32mpandas/_libs/index.pyx\u001b[0m in \u001b[0;36mpandas._libs.index.IndexEngine.get_loc\u001b[0;34m()\u001b[0m\n",
            "\u001b[0;32mpandas/_libs/index.pyx\u001b[0m in \u001b[0;36mpandas._libs.index.IndexEngine.get_loc\u001b[0;34m()\u001b[0m\n",
            "\u001b[0;32mpandas/_libs/hashtable_class_helper.pxi\u001b[0m in \u001b[0;36mpandas._libs.hashtable.PyObjectHashTable.get_item\u001b[0;34m()\u001b[0m\n",
            "\u001b[0;32mpandas/_libs/hashtable_class_helper.pxi\u001b[0m in \u001b[0;36mpandas._libs.hashtable.PyObjectHashTable.get_item\u001b[0;34m()\u001b[0m\n",
            "\u001b[0;31mKeyError\u001b[0m: 'text_no'",
            "\nDuring handling of the above exception, another exception occurred:\n",
            "\u001b[0;31mKeyError\u001b[0m                                  Traceback (most recent call last)",
            "\u001b[0;32m<ipython-input-16-2b0224f876f0>\u001b[0m in \u001b[0;36m<module>\u001b[0;34m()\u001b[0m\n\u001b[1;32m      2\u001b[0m \u001b[0mtrain_images\u001b[0m\u001b[0;34m,\u001b[0m\u001b[0mtrain_labels\u001b[0m \u001b[0;34m=\u001b[0m\u001b[0mtrain_data\u001b[0m\u001b[0;34m\u001b[0m\u001b[0;34m\u001b[0m\u001b[0m\n\u001b[1;32m      3\u001b[0m \u001b[0;34m\u001b[0m\u001b[0m\n\u001b[0;32m----> 4\u001b[0;31m \u001b[0mtrain_labels\u001b[0m \u001b[0;34m=\u001b[0m \u001b[0mtrain_df\u001b[0m\u001b[0;34m[\u001b[0m\u001b[0;34m'text_no'\u001b[0m\u001b[0;34m]\u001b[0m\u001b[0;34m\u001b[0m\u001b[0;34m\u001b[0m\u001b[0m\n\u001b[0m\u001b[1;32m      5\u001b[0m \u001b[0;34m\u001b[0m\u001b[0m\n\u001b[1;32m      6\u001b[0m \u001b[0;34m\u001b[0m\u001b[0m\n",
            "\u001b[0;32m/usr/local/lib/python3.6/dist-packages/pandas/core/frame.py\u001b[0m in \u001b[0;36m__getitem__\u001b[0;34m(self, key)\u001b[0m\n\u001b[1;32m   2993\u001b[0m             \u001b[0;32mif\u001b[0m \u001b[0mself\u001b[0m\u001b[0;34m.\u001b[0m\u001b[0mcolumns\u001b[0m\u001b[0;34m.\u001b[0m\u001b[0mnlevels\u001b[0m \u001b[0;34m>\u001b[0m \u001b[0;36m1\u001b[0m\u001b[0;34m:\u001b[0m\u001b[0;34m\u001b[0m\u001b[0;34m\u001b[0m\u001b[0m\n\u001b[1;32m   2994\u001b[0m                 \u001b[0;32mreturn\u001b[0m \u001b[0mself\u001b[0m\u001b[0;34m.\u001b[0m\u001b[0m_getitem_multilevel\u001b[0m\u001b[0;34m(\u001b[0m\u001b[0mkey\u001b[0m\u001b[0;34m)\u001b[0m\u001b[0;34m\u001b[0m\u001b[0;34m\u001b[0m\u001b[0m\n\u001b[0;32m-> 2995\u001b[0;31m             \u001b[0mindexer\u001b[0m \u001b[0;34m=\u001b[0m \u001b[0mself\u001b[0m\u001b[0;34m.\u001b[0m\u001b[0mcolumns\u001b[0m\u001b[0;34m.\u001b[0m\u001b[0mget_loc\u001b[0m\u001b[0;34m(\u001b[0m\u001b[0mkey\u001b[0m\u001b[0;34m)\u001b[0m\u001b[0;34m\u001b[0m\u001b[0;34m\u001b[0m\u001b[0m\n\u001b[0m\u001b[1;32m   2996\u001b[0m             \u001b[0;32mif\u001b[0m \u001b[0mis_integer\u001b[0m\u001b[0;34m(\u001b[0m\u001b[0mindexer\u001b[0m\u001b[0;34m)\u001b[0m\u001b[0;34m:\u001b[0m\u001b[0;34m\u001b[0m\u001b[0;34m\u001b[0m\u001b[0m\n\u001b[1;32m   2997\u001b[0m                 \u001b[0mindexer\u001b[0m \u001b[0;34m=\u001b[0m \u001b[0;34m[\u001b[0m\u001b[0mindexer\u001b[0m\u001b[0;34m]\u001b[0m\u001b[0;34m\u001b[0m\u001b[0;34m\u001b[0m\u001b[0m\n",
            "\u001b[0;32m/usr/local/lib/python3.6/dist-packages/pandas/core/indexes/base.py\u001b[0m in \u001b[0;36mget_loc\u001b[0;34m(self, key, method, tolerance)\u001b[0m\n\u001b[1;32m   2897\u001b[0m                 \u001b[0;32mreturn\u001b[0m \u001b[0mself\u001b[0m\u001b[0;34m.\u001b[0m\u001b[0m_engine\u001b[0m\u001b[0;34m.\u001b[0m\u001b[0mget_loc\u001b[0m\u001b[0;34m(\u001b[0m\u001b[0mkey\u001b[0m\u001b[0;34m)\u001b[0m\u001b[0;34m\u001b[0m\u001b[0;34m\u001b[0m\u001b[0m\n\u001b[1;32m   2898\u001b[0m             \u001b[0;32mexcept\u001b[0m \u001b[0mKeyError\u001b[0m\u001b[0;34m:\u001b[0m\u001b[0;34m\u001b[0m\u001b[0;34m\u001b[0m\u001b[0m\n\u001b[0;32m-> 2899\u001b[0;31m                 \u001b[0;32mreturn\u001b[0m \u001b[0mself\u001b[0m\u001b[0;34m.\u001b[0m\u001b[0m_engine\u001b[0m\u001b[0;34m.\u001b[0m\u001b[0mget_loc\u001b[0m\u001b[0;34m(\u001b[0m\u001b[0mself\u001b[0m\u001b[0;34m.\u001b[0m\u001b[0m_maybe_cast_indexer\u001b[0m\u001b[0;34m(\u001b[0m\u001b[0mkey\u001b[0m\u001b[0;34m)\u001b[0m\u001b[0;34m)\u001b[0m\u001b[0;34m\u001b[0m\u001b[0;34m\u001b[0m\u001b[0m\n\u001b[0m\u001b[1;32m   2900\u001b[0m         \u001b[0mindexer\u001b[0m \u001b[0;34m=\u001b[0m \u001b[0mself\u001b[0m\u001b[0;34m.\u001b[0m\u001b[0mget_indexer\u001b[0m\u001b[0;34m(\u001b[0m\u001b[0;34m[\u001b[0m\u001b[0mkey\u001b[0m\u001b[0;34m]\u001b[0m\u001b[0;34m,\u001b[0m \u001b[0mmethod\u001b[0m\u001b[0;34m=\u001b[0m\u001b[0mmethod\u001b[0m\u001b[0;34m,\u001b[0m \u001b[0mtolerance\u001b[0m\u001b[0;34m=\u001b[0m\u001b[0mtolerance\u001b[0m\u001b[0;34m)\u001b[0m\u001b[0;34m\u001b[0m\u001b[0;34m\u001b[0m\u001b[0m\n\u001b[1;32m   2901\u001b[0m         \u001b[0;32mif\u001b[0m \u001b[0mindexer\u001b[0m\u001b[0;34m.\u001b[0m\u001b[0mndim\u001b[0m \u001b[0;34m>\u001b[0m \u001b[0;36m1\u001b[0m \u001b[0;32mor\u001b[0m \u001b[0mindexer\u001b[0m\u001b[0;34m.\u001b[0m\u001b[0msize\u001b[0m \u001b[0;34m>\u001b[0m \u001b[0;36m1\u001b[0m\u001b[0;34m:\u001b[0m\u001b[0;34m\u001b[0m\u001b[0;34m\u001b[0m\u001b[0m\n",
            "\u001b[0;32mpandas/_libs/index.pyx\u001b[0m in \u001b[0;36mpandas._libs.index.IndexEngine.get_loc\u001b[0;34m()\u001b[0m\n",
            "\u001b[0;32mpandas/_libs/index.pyx\u001b[0m in \u001b[0;36mpandas._libs.index.IndexEngine.get_loc\u001b[0;34m()\u001b[0m\n",
            "\u001b[0;32mpandas/_libs/hashtable_class_helper.pxi\u001b[0m in \u001b[0;36mpandas._libs.hashtable.PyObjectHashTable.get_item\u001b[0;34m()\u001b[0m\n",
            "\u001b[0;32mpandas/_libs/hashtable_class_helper.pxi\u001b[0m in \u001b[0;36mpandas._libs.hashtable.PyObjectHashTable.get_item\u001b[0;34m()\u001b[0m\n",
            "\u001b[0;31mKeyError\u001b[0m: 'text_no'"
          ]
        }
      ]
    },
    {
      "cell_type": "code",
      "metadata": {
        "id": "W9-uJg3me5D7",
        "colab_type": "code",
        "colab": {}
      },
      "source": [
        "def process_entire_df(df):\n",
        "  \"\"\"\n",
        "  Loops through the entire dataframe creating avg frame\n",
        "  \"\"\"\n",
        "  print(\"Total No of rows to be processed\",df.shape[0])\n",
        "  avg_frame_list = []\n",
        "  for i, row in df.iterrows():\n",
        "    print(\"processing row- \",i)\n",
        "    frame_no = row['end']\n",
        "    video_url = row['url']\n",
        "    #label = row['text']\n",
        "    try:\n",
        "      np_avg_frame = pre_process(video_url,frame_no)\n",
        "    except:\n",
        "      np_avg_frame = np.zeros((IMAGE_SIZE,IMAGE_SIZE))\n",
        "      print(\"Video missing - \",i)\n",
        "    avg_frame_list.append(np_avg_frame)\n",
        "  return np.array(avg_frame_list)\n"
      ],
      "execution_count": 0,
      "outputs": []
    },
    {
      "cell_type": "code",
      "metadata": {
        "id": "Sa5HlBUTGhVm",
        "colab_type": "code",
        "colab": {}
      },
      "source": [
        "def pre_process(video_url,frame_no):\n",
        "    \"\"\"\n",
        "    :param video url frame_no\n",
        "    :return:  average frame pixel values after greyscale and image resizing\n",
        "    \"\"\"\n",
        "\n",
        "    vPafy = pafy.new(video_url)\n",
        "    play = vPafy.getbest(preftype=\"any\")\n",
        "\n",
        "    #start the video\n",
        "    cap = cv2.VideoCapture(play.url)\n",
        "    fgbg = cv2.createBackgroundSubtractorMOG2() #Back ground Subtraction\n",
        "    #print(video_url)\n",
        "    processed_frame=[]\n",
        "    for i in range(0,frame_no):\n",
        "      ret, frame = cap.read()\n",
        "      #cv2_imshow(frame)\n",
        "      # Display the resulting frame\n",
        "      img_array = frame.astype('uint8')\n",
        "     \n",
        "      #frame = fgbg.apply(frame) #remove Background\n",
        "      \n",
        "      \n",
        "      img_array = cv2.cvtColor(img_array, cv2.COLOR_BGR2GRAY)\n",
        "      img_array = cv2.resize(img_array, (IMAGE_SIZE, IMAGE_SIZE))\n",
        "      #cv2_imshow(img_array)\n",
        "      \n",
        "      # Reshape array to l * w * channels\n",
        "      #img_array = img_array.reshape(IMAGE_SIZE, IMAGE_SIZE, 1)\n",
        "\n",
        "      # Normalize the array\n",
        "      #img_array = img_array / 255.0\n",
        "\n",
        "      # Expand Dimension of the array as our model expects a 4D array\n",
        "      #img_array = np.expand_dims(img_array, axis=0)\n",
        "      processed_frame.append(img_array)\n",
        "    process_frame_list =np.array(processed_frame)\n",
        "    avg_frame_np  =np.mean(process_frame_list, axis=0)\n",
        "    return avg_frame_np \n",
        " "
      ],
      "execution_count": 0,
      "outputs": []
    },
    {
      "cell_type": "code",
      "metadata": {
        "id": "96otud0BDjrj",
        "colab_type": "code",
        "colab": {}
      },
      "source": [
        "\n",
        "def cnn_model():\n",
        "\tnum_of_classes = get_num_of_classes()\n",
        "\tmodel = Sequential()\n",
        "\tmodel.add(Conv2D(16, (2,2), input_shape=(IMAGE_SIZE, IMAGE_SIZE, 1), activation='relu'))\n",
        "\tmodel.add(MaxPooling2D(pool_size=(2, 2), strides=(2, 2), padding='same'))\n",
        "\tmodel.add(Conv2D(32, (3,3), activation='relu'))\n",
        "\tmodel.add(MaxPooling2D(pool_size=(3, 3), strides=(3, 3), padding='same'))\n",
        "\tmodel.add(Conv2D(64, (5,5), activation='relu'))\n",
        "\tmodel.add(MaxPooling2D(pool_size=(5, 5), strides=(5, 5), padding='same'))\n",
        "\tmodel.add(Flatten())\n",
        "\tmodel.add(Dense(128, activation='relu'))\n",
        "\tmodel.add(Dropout(0.2))\n",
        "\tmodel.add(Dense(num_of_classes, activation='softmax'))\n",
        "\tsgd = optimizers.SGD(lr=1e-2)\n",
        "\tmodel.compile(loss='categorical_crossentropy', optimizer=sgd, metrics=['accuracy'])\n",
        "\tfilepath=\"cnn_model_keras2.h5\"\n",
        "\tcheckpoint1 = ModelCheckpoint(filepath, monitor='val_acc', verbose=1, save_best_only=True, mode='max')\n",
        "\tcallbacks_list = [checkpoint1]\n",
        "\t#from keras.utils import plot_model\n",
        "\t#plot_model(model, to_file='model.png', show_shapes=True)\n",
        "\treturn model, callbacks_list"
      ],
      "execution_count": 0,
      "outputs": []
    },
    {
      "cell_type": "code",
      "metadata": {
        "id": "lnpOUg7ED4xA",
        "colab_type": "code",
        "colab": {}
      },
      "source": [
        "def get_num_of_classes():\n",
        "\treturn len(train_df['text'].unique())\n",
        " "
      ],
      "execution_count": 0,
      "outputs": []
    },
    {
      "cell_type": "markdown",
      "metadata": {
        "id": "PvXok4Sov51b",
        "colab_type": "text"
      },
      "source": [
        "Train Code \n"
      ]
    },
    {
      "cell_type": "code",
      "metadata": {
        "id": "2L49yhzBFtWU",
        "colab_type": "code",
        "colab": {}
      },
      "source": [
        "val_labels = np_utils.to_categorical([1,2])"
      ],
      "execution_count": 0,
      "outputs": []
    },
    {
      "cell_type": "code",
      "metadata": {
        "id": "dxryw-1eGhqb",
        "colab_type": "code",
        "outputId": "a929b16a-2452-47ef-ae02-174565d0370d",
        "colab": {
          "base_uri": "https://localhost:8080/",
          "height": 51
        }
      },
      "source": [
        "val_labels"
      ],
      "execution_count": 0,
      "outputs": [
        {
          "output_type": "execute_result",
          "data": {
            "text/plain": [
              "array([[0., 1., 0.],\n",
              "       [0., 0., 1.]], dtype=float32)"
            ]
          },
          "metadata": {
            "tags": []
          },
          "execution_count": 20
        }
      ]
    },
    {
      "cell_type": "code",
      "metadata": {
        "id": "7t-g8gbnLK9I",
        "colab_type": "code",
        "outputId": "6030da23-22ae-446e-ea89-50dcc7ac4199",
        "colab": {
          "base_uri": "https://localhost:8080/",
          "height": 170
        }
      },
      "source": [
        "!pip install pafy\n",
        "!pip install youtube-dl"
      ],
      "execution_count": 0,
      "outputs": [
        {
          "output_type": "stream",
          "text": [
            "Collecting pafy\n",
            "  Downloading https://files.pythonhosted.org/packages/74/69/829919eeadff695338f98fa12bb99e45490761a2010c8d688d88b6df194a/pafy-0.5.5-py2.py3-none-any.whl\n",
            "Installing collected packages: pafy\n",
            "Successfully installed pafy-0.5.5\n",
            "Collecting youtube-dl\n",
            "\u001b[?25l  Downloading https://files.pythonhosted.org/packages/6c/93/aacfa17b0ce61d5c3786da825e085639d3430e8f81f3531a3dc738c9c80c/youtube_dl-2020.3.8-py2.py3-none-any.whl (1.8MB)\n",
            "\u001b[K     |████████████████████████████████| 1.8MB 2.8MB/s \n",
            "\u001b[?25hInstalling collected packages: youtube-dl\n",
            "Successfully installed youtube-dl-2020.3.8\n"
          ],
          "name": "stdout"
        }
      ]
    },
    {
      "cell_type": "code",
      "metadata": {
        "id": "5DSyP2ies0lh",
        "colab_type": "code",
        "colab": {}
      },
      "source": [
        ""
      ],
      "execution_count": 0,
      "outputs": []
    },
    {
      "cell_type": "code",
      "metadata": {
        "id": "RrxEO-5usKuz",
        "colab_type": "code",
        "colab": {}
      },
      "source": [
        "!pip install videofeatures"
      ],
      "execution_count": 0,
      "outputs": []
    },
    {
      "cell_type": "code",
      "metadata": {
        "id": "BISAOP0FsZZF",
        "colab_type": "code",
        "colab": {}
      },
      "source": [
        "!pip install pipeline"
      ],
      "execution_count": 0,
      "outputs": []
    },
    {
      "cell_type": "code",
      "metadata": {
        "id": "7u7-Zb0-skNM",
        "colab_type": "code",
        "colab": {}
      },
      "source": [
        "image=cv2.resize(image,(224,224), interpolation = cv2.INTER_AREA)\n",
        "cv2.imwrite(filename,image)"
      ],
      "execution_count": 0,
      "outputs": []
    },
    {
      "cell_type": "code",
      "metadata": {
        "id": "NtLxL0XPAjsW",
        "colab_type": "code",
        "outputId": "a8b52243-2cac-4d99-917a-2daca0b2dcb0",
        "colab": {
          "base_uri": "https://localhost:8080/",
          "height": 163
        }
      },
      "source": [
        "help(model.MaxPooling3D)"
      ],
      "execution_count": 0,
      "outputs": [
        {
          "output_type": "error",
          "ename": "AttributeError",
          "evalue": "ignored",
          "traceback": [
            "\u001b[0;31m---------------------------------------------------------------------------\u001b[0m",
            "\u001b[0;31mAttributeError\u001b[0m                            Traceback (most recent call last)",
            "\u001b[0;32m<ipython-input-25-62c418470bf7>\u001b[0m in \u001b[0;36m<module>\u001b[0;34m()\u001b[0m\n\u001b[0;32m----> 1\u001b[0;31m \u001b[0mhelp\u001b[0m\u001b[0;34m(\u001b[0m\u001b[0mmodel\u001b[0m\u001b[0;34m.\u001b[0m\u001b[0mMaxPooling3D\u001b[0m\u001b[0;34m)\u001b[0m\u001b[0;34m\u001b[0m\u001b[0;34m\u001b[0m\u001b[0m\n\u001b[0m",
            "\u001b[0;31mAttributeError\u001b[0m: 'Sequential' object has no attribute 'MaxPooling3D'"
          ]
        }
      ]
    },
    {
      "cell_type": "code",
      "metadata": {
        "id": "lpNjNGXCB1QG",
        "colab_type": "code",
        "colab": {}
      },
      "source": [
        "from keras.models import Sequential\n",
        "from keras.layers import Dense, Conv2D, Flatten, ConvLSTM2D,BatchNormalization,MaxPooling3D"
      ],
      "execution_count": 0,
      "outputs": []
    },
    {
      "cell_type": "code",
      "metadata": {
        "id": "iR_I75BtAn-G",
        "colab_type": "code",
        "colab": {}
      },
      "source": [
        "\n",
        "model = Sequential()\n"
      ],
      "execution_count": 0,
      "outputs": []
    },
    {
      "cell_type": "code",
      "metadata": {
        "id": "1ycHKdj8sjp0",
        "colab_type": "code",
        "colab": {}
      },
      "source": [
        "from videofeatures import VGGFeatures, SIFTFeatures, SURFFeatures"
      ],
      "execution_count": 0,
      "outputs": []
    },
    {
      "cell_type": "code",
      "metadata": {
        "id": "gyopzbVHsP1q",
        "colab_type": "code",
        "colab": {}
      },
      "source": [
        "#from videofeatures import Pipeline, ActivityNetDataset, ResNetFeatures"
      ],
      "execution_count": 0,
      "outputs": []
    }
  ]
}